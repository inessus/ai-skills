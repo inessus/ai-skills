{
 "cells": [
  {
   "cell_type": "code",
   "execution_count": 95,
   "metadata": {},
   "outputs": [],
   "source": [
    "import torch \n",
    "\n",
    "import pandas as pd\n",
    "import numpy as np\n",
    "import matplotlib as mpl\n",
    "import seaborn as sns\n",
    "import matplotlib.pyplot as plt"
   ]
  },
  {
   "cell_type": "code",
   "execution_count": 67,
   "metadata": {},
   "outputs": [
    {
     "name": "stdout",
     "output_type": "stream",
     "text": [
      "numpy:\n",
      "x1 mean: 4.286 \n",
      "x2 mean: 6.286\n",
      "s11 std: 2.050 \n",
      "s12 std: 1.887\n",
      "x1 var: 4.204 \n",
      "x2 var: 3.561\n",
      "cov : [[4.9047619  4.32142857]\n",
      " [4.32142857 4.1547619 ]]\n",
      "torch:\n",
      "x1 mean: 4.286 \n",
      "x2 mean: 6.286\n",
      "s11 std: 2.215 \n",
      "s12 std: 2.038\n",
      "x1 var: 4.905 \n",
      "x2 var: 4.155\n",
      "cov : [[4.9047619  4.32142857]\n",
      " [4.32142857 4.1547619 ]]\n"
     ]
    }
   ],
   "source": [
    "# exercise 1.1 \n",
    "x1 = [3, 4, 2, 6, 8, 2, 5]\n",
    "x2 = [5, 5.5, 4, 7, 10, 5, 7.5]\n",
    "\n",
    "a = np.stack((x1, x2))\n",
    "\n",
    "print(\"numpy:\")\n",
    "print(\"x1 mean: {0:.3f} \\nx2 mean: {1:.3f}\".format(a.mean(1)[0], a.mean(1)[1]))\n",
    "print(\"s11 std: {0:.3f} \\ns12 std: {1:.3f}\".format(a.std(1)[0], a.std(1)[1]))\n",
    "print(\"x1 var: {0:.3f} \\nx2 var: {1:.3f}\".format(a.var(1)[0], a.var(1)[1]))\n",
    "print(\"cov : {}\".format(np.cov(a)))\n",
    "\n",
    "\n",
    "b = torch.Tensor([x1, x2])\n",
    "print(\"torch:\")\n",
    "print(\"x1 mean: {0:.3f} \\nx2 mean: {1:.3f}\".format(b.mean(1)[0], b.mean(1)[1]))\n",
    "print(\"s11 std: {0:.3f} \\ns12 std: {1:.3f}\".format(b.std(1)[0], b.std(1)[1]))\n",
    "print(\"x1 var: {0:.3f} \\nx2 var: {1:.3f}\".format(b.var(1)[0], b.var(1)[1]))\n",
    "print(\"cov : {}\".format(np.cov(b)))\n"
   ]
  },
  {
   "cell_type": "code",
   "execution_count": 117,
   "metadata": {},
   "outputs": [
    {
     "data": {
      "text/plain": [
       "<seaborn.axisgrid.PairGrid at 0x13c64c6d8>"
      ]
     },
     "execution_count": 117,
     "metadata": {},
     "output_type": "execute_result"
    },
    {
     "data": {
      "image/png": "[encoded data removed]",
      "text/plain": [
       "<Figure size 360x360 with 6 Axes>"
      ]
     },
     "metadata": {},
     "output_type": "display_data"
    }
   ],
   "source": [
    "# exercise 1.1 \n",
    "x1 = [i for i in range(1, 11)]\n",
    "x2 = [18.95, 19.00, 17.95, 15.54, 14.00, 12.95, 8.94, 7.49, 6.00, 3.99]\n",
    "\n",
    "a = np.stack([x1, x2], 1)\n",
    "data = pd.DataFrame(a)\n",
    "sns.pairplot(data, diag_kind=\"kde\",kind='scatter')"
   ]
  },
  {
   "cell_type": "code",
   "execution_count": 118,
   "metadata": {},
   "outputs": [
    {
     "data": {
      "text/html": [
       "<div>\n",
       "<style scoped>\n",
       "    .dataframe tbody tr th:only-of-type {\n",
       "        vertical-align: middle;\n",
       "    }\n",
       "\n",
       "    .dataframe tbody tr th {\n",
       "        vertical-align: top;\n",
       "    }\n",
       "\n",
       "    .dataframe thead th {\n",
       "        text-align: right;\n",
       "    }\n",
       "</style>\n",
       "<table border=\"1\" class=\"dataframe\">\n",
       "  <thead>\n",
       "    <tr style=\"text-align: right;\">\n",
       "      <th></th>\n",
       "      <th>0</th>\n",
       "      <th>1</th>\n",
       "    </tr>\n",
       "  </thead>\n",
       "  <tbody>\n",
       "    <tr>\n",
       "      <th>0</th>\n",
       "      <td>1.0</td>\n",
       "      <td>18.95</td>\n",
       "    </tr>\n",
       "    <tr>\n",
       "      <th>1</th>\n",
       "      <td>2.0</td>\n",
       "      <td>19.00</td>\n",
       "    </tr>\n",
       "    <tr>\n",
       "      <th>2</th>\n",
       "      <td>3.0</td>\n",
       "      <td>17.95</td>\n",
       "    </tr>\n",
       "    <tr>\n",
       "      <th>3</th>\n",
       "      <td>4.0</td>\n",
       "      <td>15.54</td>\n",
       "    </tr>\n",
       "    <tr>\n",
       "      <th>4</th>\n",
       "      <td>5.0</td>\n",
       "      <td>14.00</td>\n",
       "    </tr>\n",
       "    <tr>\n",
       "      <th>5</th>\n",
       "      <td>6.0</td>\n",
       "      <td>12.95</td>\n",
       "    </tr>\n",
       "    <tr>\n",
       "      <th>6</th>\n",
       "      <td>7.0</td>\n",
       "      <td>8.94</td>\n",
       "    </tr>\n",
       "    <tr>\n",
       "      <th>7</th>\n",
       "      <td>8.0</td>\n",
       "      <td>7.49</td>\n",
       "    </tr>\n",
       "    <tr>\n",
       "      <th>8</th>\n",
       "      <td>9.0</td>\n",
       "      <td>6.00</td>\n",
       "    </tr>\n",
       "    <tr>\n",
       "      <th>9</th>\n",
       "      <td>10.0</td>\n",
       "      <td>3.99</td>\n",
       "    </tr>\n",
       "  </tbody>\n",
       "</table>\n",
       "</div>"
      ],
      "text/plain": [
       "      0      1\n",
       "0   1.0  18.95\n",
       "1   2.0  19.00\n",
       "2   3.0  17.95\n",
       "3   4.0  15.54\n",
       "4   5.0  14.00\n",
       "5   6.0  12.95\n",
       "6   7.0   8.94\n",
       "7   8.0   7.49\n",
       "8   9.0   6.00\n",
       "9  10.0   3.99"
      ]
     },
     "execution_count": 118,
     "metadata": {},
     "output_type": "execute_result"
    }
   ],
   "source": [
    "data"
   ]
  },
  {
   "cell_type": "code",
   "execution_count": 120,
   "metadata": {},
   "outputs": [
    {
     "data": {
      "text/plain": [
       "[1, 2, 3]"
      ]
     },
     "execution_count": 120,
     "metadata": {},
     "output_type": "execute_result"
    }
   ],
   "source": [
    "a = [1, 2 ,3]\n",
    "\n",
    "def Generate(a, n):\n",
    "    s = 0\n",
    "    for i in range(n):\n",
    "        s *= a[i]\n",
    "    start = s + 1\n",
    "    end = s*a[n] + 1\n",
    "    starti = a.index(start)\n",
    "    while a[-1] < end:\n",
    "        a.append(s + a[starti])\n",
    "        starti +=1\n",
    "    return a\n",
    "Generate(a, 2)"
   ]
  },
  {
   "cell_type": "code",
   "execution_count": null,
   "metadata": {},
   "outputs": [],
   "source": []
  }
 ],
 "metadata": {
  "kernelspec": {
   "display_name": "Python 3",
   "language": "python",
   "name": "python3"
  },
  "language_info": {
   "codemirror_mode": {
    "name": "ipython",
    "version": 3
   },
   "file_extension": ".py",
   "mimetype": "text/x-python",
   "name": "python",
   "nbconvert_exporter": "python",
   "pygments_lexer": "ipython3",
   "version": "3.6.8"
  }
 },
 "nbformat": 4,
 "nbformat_minor": 2
}
